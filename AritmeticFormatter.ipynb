{
 "cells": [
  {
   "cell_type": "code",
   "execution_count": 69,
   "metadata": {},
   "outputs": [],
   "source": [
    "import os\n",
    "import time"
   ]
  },
  {
   "cell_type": "code",
   "execution_count": 70,
   "metadata": {},
   "outputs": [],
   "source": [
    "def arithmetic_arranger(problems,flag=False):\n",
    "    calc_list=problems\n",
    "    num_str=''\n",
    "    denom_str=''\n",
    "    sep_str=''\n",
    "    result=0\n",
    "    result_str=''\n",
    "    if(len(calc_list) > 5):\n",
    "        return \"Error: Too many problems.\"\n",
    "    else:\n",
    "        for i,calc in enumerate(calc_list):\n",
    "            tmp_list=calc.split()\n",
    "            if(not tmp_list[0].isdigit()):\n",
    "                return \"Error: Numbers must only contain digits.\"\n",
    "            if(not tmp_list[-1].isdigit()):\n",
    "                return \"Error: Numbers must only contain digits.\"\n",
    "            operand1=int(tmp_list[0])\n",
    "            operand2=int(tmp_list[-1])\n",
    "            x_len=max([len(tmp_list[0]),len(tmp_list[-1])])\n",
    "            if(x_len > 4):\n",
    "                return \"Error: Numbers cannot be more than four digits.\"\n",
    "            max_allow=x_len+2\n",
    "            x_oper=len(tmp_list[0])\n",
    "            y_oper=len(tmp_list[-1])\n",
    "            len_diff=abs(x_oper - y_oper)\n",
    "\n",
    "            ##Line 1 & 2 Operators and operands\n",
    "            if(i==0):\n",
    "                num_str='  '\n",
    "                denom_str=str(tmp_list[1]) + ' '\n",
    "            else:\n",
    "                num_str+='      '\n",
    "                denom_str+='    ' + str(tmp_list[1]) + ' '\n",
    "            for t in range(len_diff):\n",
    "                if(x_oper<y_oper):\n",
    "                    num_str+=' '\n",
    "                elif(y_oper<x_oper):\n",
    "                    denom_str+=' '\n",
    "            num_str+=tmp_list[0]\n",
    "            denom_str+=tmp_list[-1]\n",
    "\n",
    "            ##Line 3 => Seperator\n",
    "            if(i>0):\n",
    "                sep_str+='    '\n",
    "            for x in range(max_allow):\n",
    "                sep_str+='-'\n",
    "\n",
    "            ##Line 4 => Result\n",
    "            if('+' in tmp_list[1]):\n",
    "                result=operand1+operand2\n",
    "            elif('-' in tmp_list[1]):\n",
    "                result=operand1-operand2\n",
    "            else:\n",
    "                return \"Error: Operator must be '+' or '-'.\"\n",
    "\n",
    "            tmp_res=str(result)\n",
    "            res_diff=max_allow - len(tmp_res)\n",
    "            if(i>0):\n",
    "                result_str+='    '\n",
    "            for t in range(res_diff):\n",
    "                result_str+=' '\n",
    "            result_str+=tmp_res\n",
    "        \n",
    "        if(flag):\n",
    "            return num_str+'\\n'+denom_str+'\\n'+sep_str+'\\n'+result_str\n",
    "        else:\n",
    "            return num_str+'\\n'+denom_str+'\\n'+sep_str\n",
    "        #print(num_str)\n",
    "        #print(denom_str)\n",
    "        #print(sep_str)\n",
    "        #print(result_str)"
   ]
  },
  {
   "cell_type": "code",
   "execution_count": 73,
   "metadata": {},
   "outputs": [
    {
     "name": "stdout",
     "output_type": "stream",
     "text": [
      "    3      3801      45      123\n",
      "+ 855    -    2    + 43    +  49\n",
      "-----    ------    ----    -----\n"
     ]
    }
   ],
   "source": [
    "print(arithmetic_arranger([\"3 + 855\", \"3801 - 2\", \"45 + 43\", \"123 + 49\"]))"
   ]
  },
  {
   "cell_type": "code",
   "execution_count": null,
   "metadata": {},
   "outputs": [],
   "source": []
  }
 ],
 "metadata": {
  "kernelspec": {
   "display_name": "Python 3",
   "language": "python",
   "name": "python3"
  },
  "language_info": {
   "codemirror_mode": {
    "name": "ipython",
    "version": 3
   },
   "file_extension": ".py",
   "mimetype": "text/x-python",
   "name": "python",
   "nbconvert_exporter": "python",
   "pygments_lexer": "ipython3",
   "version": "3.8.5"
  }
 },
 "nbformat": 4,
 "nbformat_minor": 4
}
