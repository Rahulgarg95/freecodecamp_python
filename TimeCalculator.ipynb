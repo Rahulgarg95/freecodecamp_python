{
 "cells": [
  {
   "cell_type": "code",
   "execution_count": 135,
   "metadata": {},
   "outputs": [],
   "source": [
    "def weekday_set(day_det,n_days):\n",
    "    day_list=['Monday','Tuesday','Wednesday','Thrusday','Friday','Saturday','Sunday']\n",
    "    tmp_day=day_det.capitalize()\n",
    "    i=day_list.index(tmp_day)\n",
    "    #print(i,n_days)\n",
    "    idx_new_day=(i+n_days)%7\n",
    "    new_day=day_list[idx_new_day]\n",
    "    #print(new_day)\n",
    "    return new_day"
   ]
  },
  {
   "cell_type": "code",
   "execution_count": 136,
   "metadata": {},
   "outputs": [],
   "source": [
    "def add_time(start, duration, det_day=''):\n",
    "    flag=0\n",
    "    if('PM' in start.upper()):\n",
    "        flag=1\n",
    "        time1=start.strip(' PM')\n",
    "    else:\n",
    "        time1=start.strip(' AM')\n",
    "    #Start Time Convert\n",
    "    time1_hr=int(time1.split(':')[0])\n",
    "    time1_min=int(time1.split(':')[1])\n",
    "    minutes1=time1_hr*60 + time1_min\n",
    "    \n",
    "    #Duration Convert\n",
    "    time2_hr=int(duration.split(':')[0])\n",
    "    time2_min=int(duration.split(':')[1])\n",
    "    minutes2=time2_hr*60 + time2_min\n",
    "    \n",
    "    #Time Calculator\n",
    "    if(flag==1):\n",
    "        final_minutes=minutes1 + minutes2 + 720\n",
    "    else:\n",
    "        final_minutes=minutes1 + minutes2\n",
    "    final_day=final_minutes//1440\n",
    "    final_min=final_minutes%1440\n",
    "    f_hr=final_min//60\n",
    "    f_min=final_min%60\n",
    "    if(final_day == 1):\n",
    "        day_print=\"(next day)\"\n",
    "    elif(final_day == 0):\n",
    "        day_print=\"\"\n",
    "    else:\n",
    "        day_print=\"(\" + str(final_day) + \" days later)\"\n",
    "    \n",
    "    if(len(str(f_min)) == 1):\n",
    "        if(f_hr >= 12):\n",
    "            min_f='0'+str(f_min) + ' PM'\n",
    "        else:\n",
    "            min_f='0'+str(f_min) + ' AM'\n",
    "    else:\n",
    "        if(f_hr >= 12):\n",
    "            min_f=str(f_min) + ' PM'\n",
    "        else:\n",
    "            min_f=str(f_min) + ' AM'\n",
    "    #print(f_hr)\n",
    "    if(str(f_hr) == '0'):\n",
    "        f_hr='12'\n",
    "    elif(f_hr > 12):\n",
    "        f_hr=str(f_hr - 12)\n",
    "    if(len(det_day)>0):\n",
    "        week_day=weekday_set(det_day,final_day)\n",
    "        time_final=str(f_hr) + ':' + str(min_f) + ', ' + week_day + ' ' + day_print\n",
    "    else:\n",
    "        time_final=str(f_hr) + ':' + str(min_f) + ' ' + day_print\n",
    "    return time_final.strip()"
   ]
  },
  {
   "cell_type": "code",
   "execution_count": 149,
   "metadata": {},
   "outputs": [
    {
     "name": "stdout",
     "output_type": "stream",
     "text": [
      "6:18 AM, Monday (20 days later)\n"
     ]
    }
   ],
   "source": [
    "print(add_time(\"8:16 PM\", \"466:02\", \"tuesday\"))"
   ]
  },
  {
   "cell_type": "code",
   "execution_count": 148,
   "metadata": {},
   "outputs": [
    {
     "name": "stdout",
     "output_type": "stream",
     "text": [
      "12:04 AM, Friday (2 days later)\n"
     ]
    }
   ],
   "source": [
    "print(add_time(\"11:59 PM\", \"24:05\", \"Wednesday\"))"
   ]
  },
  {
   "cell_type": "code",
   "execution_count": 137,
   "metadata": {},
   "outputs": [
    {
     "name": "stdout",
     "output_type": "stream",
     "text": [
      "5:42 PM, Monday\n"
     ]
    }
   ],
   "source": [
    "print(add_time(\"3:30 PM\", \"2:12\", \"Monday\"))"
   ]
  },
  {
   "cell_type": "code",
   "execution_count": 138,
   "metadata": {},
   "outputs": [
    {
     "name": "stdout",
     "output_type": "stream",
     "text": [
      "2:59 AM, Sunday (next day)\n"
     ]
    }
   ],
   "source": [
    "print(add_time(\"2:59 AM\", \"24:00\", \"saturDay\"))"
   ]
  },
  {
   "cell_type": "code",
   "execution_count": 139,
   "metadata": {},
   "outputs": [
    {
     "name": "stdout",
     "output_type": "stream",
     "text": [
      "12:04 AM (2 days later)\n"
     ]
    }
   ],
   "source": [
    "print(add_time(\"11:59 PM\", \"24:05\"))"
   ]
  },
  {
   "cell_type": "code",
   "execution_count": 140,
   "metadata": {},
   "outputs": [
    {
     "name": "stdout",
     "output_type": "stream",
     "text": [
      "6:18 AM (20 days later)\n"
     ]
    }
   ],
   "source": [
    "print(add_time(\"8:16 PM\", \"466:02\"))"
   ]
  },
  {
   "cell_type": "code",
   "execution_count": 141,
   "metadata": {},
   "outputs": [
    {
     "name": "stdout",
     "output_type": "stream",
     "text": [
      "5:01 AM\n"
     ]
    }
   ],
   "source": [
    "print(add_time(\"5:01 AM\", \"0:00\"))"
   ]
  },
  {
   "cell_type": "code",
   "execution_count": 142,
   "metadata": {},
   "outputs": [
    {
     "name": "stdout",
     "output_type": "stream",
     "text": [
      "1:40 AM (next day)\n"
     ]
    }
   ],
   "source": [
    "print(add_time(\"10:10 PM\", \"3:30\"))"
   ]
  },
  {
   "cell_type": "code",
   "execution_count": 143,
   "metadata": {},
   "outputs": [
    {
     "name": "stdout",
     "output_type": "stream",
     "text": [
      "12:03 PM\n"
     ]
    }
   ],
   "source": [
    "print(add_time(\"11:43 AM\", \"00:20\"))"
   ]
  },
  {
   "cell_type": "code",
   "execution_count": 144,
   "metadata": {},
   "outputs": [
    {
     "name": "stdout",
     "output_type": "stream",
     "text": [
      "6:10 PM\n"
     ]
    }
   ],
   "source": [
    "print(add_time(\"3:00 PM\", \"3:10\"))"
   ]
  },
  {
   "cell_type": "code",
   "execution_count": 145,
   "metadata": {},
   "outputs": [
    {
     "name": "stdout",
     "output_type": "stream",
     "text": [
      "7:42 AM (9 days later)\n"
     ]
    }
   ],
   "source": [
    "print(add_time(\"6:30 PM\", \"205:12\"))"
   ]
  },
  {
   "cell_type": "code",
   "execution_count": 146,
   "metadata": {},
   "outputs": [
    {
     "name": "stdout",
     "output_type": "stream",
     "text": [
      "2:45 AM (next day)\n"
     ]
    }
   ],
   "source": [
    "print(add_time(\"9:15 PM\", \"5:30\"))"
   ]
  },
  {
   "cell_type": "code",
   "execution_count": 147,
   "metadata": {},
   "outputs": [
    {
     "name": "stdout",
     "output_type": "stream",
     "text": [
      "2:59 AM (next day)\n"
     ]
    }
   ],
   "source": [
    "print(add_time(\"2:59 AM\", \"24:00\"))"
   ]
  }
 ],
 "metadata": {
  "kernelspec": {
   "display_name": "Python 3",
   "language": "python",
   "name": "python3"
  },
  "language_info": {
   "codemirror_mode": {
    "name": "ipython",
    "version": 3
   },
   "file_extension": ".py",
   "mimetype": "text/x-python",
   "name": "python",
   "nbconvert_exporter": "python",
   "pygments_lexer": "ipython3",
   "version": "3.8.5"
  }
 },
 "nbformat": 4,
 "nbformat_minor": 4
}
